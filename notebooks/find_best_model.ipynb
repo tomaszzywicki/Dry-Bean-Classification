{
 "cells": [
  {
   "cell_type": "code",
   "execution_count": 1,
   "metadata": {},
   "outputs": [],
   "source": [
    "from sklearn.tree import DecisionTreeClassifier\n",
    "from sklearn.metrics import accuracy_score"
   ]
  },
  {
   "cell_type": "code",
   "execution_count": 4,
   "metadata": {},
   "outputs": [],
   "source": [
    "def best_decision_tree(X, y, X_test, y_test):\n",
    "    criterions = ['gini', 'entropy', 'log_loss']\n",
    "    splitters = ['best', 'radnom']\n",
    "    splitter = ''\n",
    "    samples_splits = float(\"Inf\")\n",
    "    depth = float(\"Inf\")\n",
    "    leafs = float(\"Inf\")\n",
    "    max_score = 0\n",
    "    for i in range(1, 10):\n",
    "        for j in range(1, 30):\n",
    "            for k in range(2, 20):\n",
    "                for crit in criterions:\n",
    "                    model = DecisionTreeClassifier(max_depth=i, max_leaf_nodes=j, min_samples_split=k, criterion=crit)\n",
    "                    model.fit(X, y)\n",
    "                    y_pred = model.predict(X_test)\n",
    "                    score = accuracy_score(y_test, y_pred)\n",
    "                    if score > max_score:\n",
    "                        max_score = score\n",
    "                        depth = i\n",
    "                        leafs = j\n",
    "                        samples_splits = k\n",
    "                        splitter = crit\n",
    "\n",
    "    return max_score, depth, leafs, samples_splits, splitter"
   ]
  }
 ],
 "metadata": {
  "kernelspec": {
   "display_name": "Python 3",
   "language": "python",
   "name": "python3"
  },
  "language_info": {
   "codemirror_mode": {
    "name": "ipython",
    "version": 3
   },
   "file_extension": ".py",
   "mimetype": "text/x-python",
   "name": "python",
   "nbconvert_exporter": "python",
   "pygments_lexer": "ipython3",
   "version": "3.9.6"
  }
 },
 "nbformat": 4,
 "nbformat_minor": 2
}

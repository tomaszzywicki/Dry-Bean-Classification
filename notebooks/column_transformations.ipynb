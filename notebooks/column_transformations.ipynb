{
 "cells": [
  {
   "cell_type": "code",
   "execution_count": 20,
   "metadata": {},
   "outputs": [],
   "source": [
    "import numpy as np\n",
    "import pandas as pd"
   ]
  },
  {
   "cell_type": "code",
   "execution_count": 21,
   "metadata": {},
   "outputs": [],
   "source": [
    "from sklearn.pipeline import Pipeline\n",
    "from sklearn.base import BaseEstimator, TransformerMixin\n",
    "from sklearn.preprocessing import StandardScaler\n",
    "# from funs import *"
   ]
  },
  {
   "cell_type": "code",
   "execution_count": 22,
   "metadata": {},
   "outputs": [],
   "source": [
    "df = pd.read_csv('../data/df_train.csv')\n",
    "df_test = pd.read_csv('../data/df_test.csv')\n",
    "\n",
    "X = df.drop(columns=[\"Class\"])\n",
    "y = df[\"Class\"].to_frame()\n",
    "X_test = df_test.drop(columns=[\"Class\"])\n",
    "y_test = df_test[\"Class\"]"
   ]
  },
  {
   "cell_type": "code",
   "execution_count": 23,
   "metadata": {},
   "outputs": [],
   "source": [
    "pipe = Pipeline([])\n",
    "scaler = StandardScaler()"
   ]
  },
  {
   "cell_type": "code",
   "execution_count": 24,
   "metadata": {},
   "outputs": [
    {
     "name": "stderr",
     "output_type": "stream",
     "text": [
      "c:\\Users\\barte\\AppData\\Local\\Programs\\Python\\Python310\\lib\\site-packages\\sklearn\\utils\\validation.py:1300: DataConversionWarning: A column-vector y was passed when a 1d array was expected. Please change the shape of y to (n_samples, ), for example using ravel().\n",
      "  y = column_or_1d(y, warn=True)\n",
      "c:\\Users\\barte\\AppData\\Local\\Programs\\Python\\Python310\\lib\\site-packages\\sklearn\\linear_model\\_logistic.py:469: ConvergenceWarning: lbfgs failed to converge (status=1):\n",
      "STOP: TOTAL NO. of ITERATIONS REACHED LIMIT.\n",
      "\n",
      "Increase the number of iterations (max_iter) or scale the data as shown in:\n",
      "    https://scikit-learn.org/stable/modules/preprocessing.html\n",
      "Please also refer to the documentation for alternative solver options:\n",
      "    https://scikit-learn.org/stable/modules/linear_model.html#logistic-regression\n",
      "  n_iter_i = _check_optimize_result(\n"
     ]
    },
    {
     "data": {
      "text/plain": [
       "0.8537950332284016"
      ]
     },
     "execution_count": 24,
     "metadata": {},
     "output_type": "execute_result"
    }
   ],
   "source": [
    "from sklearn.linear_model import LogisticRegression\n",
    "from sklearn.metrics import accuracy_score\n",
    "lr = LogisticRegression(max_iter=1000, penalty='l2', solver=\"lbfgs\")\n",
    "\n",
    "lr.fit(X,y)\n",
    "y_hat = lr.predict(X_test)\n",
    "accuracy_score(y_test, y_hat)"
   ]
  },
  {
   "cell_type": "markdown",
   "metadata": {},
   "source": [
    "### KNN 0.88 vs 0.90"
   ]
  },
  {
   "cell_type": "code",
   "execution_count": 25,
   "metadata": {},
   "outputs": [],
   "source": [
    "X_scaled = scaler.fit_transform(X)\n",
    "\n",
    "from sklearn.neighbors import KNeighborsClassifier\n",
    "\n",
    "X_scaled = scaler.fit_transform(X)\n",
    "X_test_scaled = scaler.transform(X_test)\n",
    "\n",
    "knn = KNeighborsClassifier(n_neighbors=12, weights='distance', algorithm='auto', p=0.2)\n",
    "\n",
    "# evaluate_accuracy(knn, X_scaled, y.values, X_test_scaled, y_test.values)"
   ]
  },
  {
   "cell_type": "code",
   "execution_count": 26,
   "metadata": {},
   "outputs": [
    {
     "name": "stderr",
     "output_type": "stream",
     "text": [
      "c:\\Users\\barte\\AppData\\Local\\Programs\\Python\\Python310\\lib\\site-packages\\sklearn\\utils\\validation.py:1300: DataConversionWarning: A column-vector y was passed when a 1d array was expected. Please change the shape of y to (n_samples, ), for example using ravel().\n",
      "  y = column_or_1d(y, warn=True)\n"
     ]
    },
    {
     "data": {
      "text/plain": [
       "0.9240993354319692"
      ]
     },
     "execution_count": 26,
     "metadata": {},
     "output_type": "execute_result"
    }
   ],
   "source": [
    "lr = LogisticRegression(max_iter=1000, penalty='l2', solver=\"lbfgs\")\n",
    "\n",
    "lr.fit(X_scaled,y)\n",
    "y_hat = lr.predict(X_test_scaled)\n",
    "accuracy_score(y_test, y_hat)"
   ]
  },
  {
   "cell_type": "markdown",
   "metadata": {},
   "source": [
    "###  SGD 0.64 vs 0.89"
   ]
  },
  {
   "cell_type": "code",
   "execution_count": 27,
   "metadata": {},
   "outputs": [
    {
     "name": "stderr",
     "output_type": "stream",
     "text": [
      "c:\\Users\\barte\\AppData\\Local\\Programs\\Python\\Python310\\lib\\site-packages\\sklearn\\utils\\validation.py:1300: DataConversionWarning: A column-vector y was passed when a 1d array was expected. Please change the shape of y to (n_samples, ), for example using ravel().\n",
      "  y = column_or_1d(y, warn=True)\n"
     ]
    },
    {
     "name": "stdout",
     "output_type": "stream",
     "text": [
      "Accuracy:  0.8950682056663168\n",
      "              precision    recall  f1-score   support\n",
      "\n",
      "    BARBUNYA       0.85      0.91      0.88       278\n",
      "      BOMBAY       0.98      1.00      0.99       109\n",
      "        CALI       0.87      0.91      0.89       342\n",
      "    DERMASON       0.90      0.92      0.91       745\n",
      "       HOROZ       0.89      0.94      0.91       405\n",
      "       SEKER       0.94      0.92      0.93       426\n",
      "        SIRA       0.88      0.77      0.82       554\n",
      "\n",
      "    accuracy                           0.90      2859\n",
      "   macro avg       0.90      0.91      0.90      2859\n",
      "weighted avg       0.90      0.90      0.89      2859\n",
      "\n"
     ]
    }
   ],
   "source": [
    "from sklearn.linear_model import SGDClassifier\n",
    "\n",
    "sgd = SGDClassifier(random_state=311, loss='hinge', penalty=None, alpha=0.1, fit_intercept=False, max_iter=1000,\n",
    "                      learning_rate='adaptive', eta0=1, shuffle=False, average=True)\n",
    "\n",
    "evaluate_accuracy(sgd, X_scaled, y, X_test_scaled, y_test)"
   ]
  },
  {
   "cell_type": "markdown",
   "metadata": {},
   "source": [
    "### Decision Tree  bez zmian"
   ]
  },
  {
   "cell_type": "code",
   "execution_count": 28,
   "metadata": {},
   "outputs": [
    {
     "name": "stdout",
     "output_type": "stream",
     "text": [
      "Accuracy:  0.8835257082896117\n",
      "              precision    recall  f1-score   support\n",
      "\n",
      "    BARBUNYA       0.85      0.90      0.87       278\n",
      "      BOMBAY       0.99      1.00      1.00       109\n",
      "        CALI       0.91      0.89      0.90       342\n",
      "    DERMASON       0.87      0.88      0.88       745\n",
      "       HOROZ       0.93      0.91      0.92       405\n",
      "       SEKER       0.92      0.92      0.92       426\n",
      "        SIRA       0.82      0.80      0.81       554\n",
      "\n",
      "    accuracy                           0.88      2859\n",
      "   macro avg       0.90      0.90      0.90      2859\n",
      "weighted avg       0.88      0.88      0.88      2859\n",
      "\n",
      "Accuracy:  0.9010143406785589\n",
      "              precision    recall  f1-score   support\n",
      "\n",
      "    BARBUNYA       0.91      0.83      0.87       278\n",
      "      BOMBAY       0.99      1.00      1.00       109\n",
      "        CALI       0.90      0.93      0.91       342\n",
      "    DERMASON       0.90      0.91      0.90       745\n",
      "       HOROZ       0.94      0.95      0.94       405\n",
      "       SEKER       0.96      0.91      0.94       426\n",
      "        SIRA       0.82      0.84      0.83       554\n",
      "\n",
      "    accuracy                           0.90      2859\n",
      "   macro avg       0.92      0.91      0.91      2859\n",
      "weighted avg       0.90      0.90      0.90      2859\n",
      "\n"
     ]
    }
   ],
   "source": [
    "from sklearn.tree import DecisionTreeClassifier, plot_tree\n",
    "\n",
    "tree1 = DecisionTreeClassifier(random_state=311)\n",
    "\n",
    "evaluate_accuracy(tree1, X_scaled, y, X_test_scaled, y_test)\n",
    "\n",
    "tree2 = DecisionTreeClassifier(random_state=0, max_depth=9, max_leaf_nodes=28, min_samples_leaf=2, criterion='log_loss')\n",
    "\n",
    "\n",
    "evaluate_accuracy(tree2, X_scaled, y, X_test_scaled, y_test)"
   ]
  },
  {
   "cell_type": "markdown",
   "metadata": {},
   "source": [
    "### SVM  0.91 vs 0.92"
   ]
  },
  {
   "cell_type": "code",
   "execution_count": 30,
   "metadata": {},
   "outputs": [
    {
     "name": "stderr",
     "output_type": "stream",
     "text": [
      "c:\\Users\\barte\\AppData\\Local\\Programs\\Python\\Python310\\lib\\site-packages\\sklearn\\utils\\validation.py:1300: DataConversionWarning: A column-vector y was passed when a 1d array was expected. Please change the shape of y to (n_samples, ), for example using ravel().\n",
      "  y = column_or_1d(y, warn=True)\n"
     ]
    },
    {
     "name": "stdout",
     "output_type": "stream",
     "text": [
      "Accuracy:  0.9268975166142007\n",
      "              precision    recall  f1-score   support\n",
      "\n",
      "    BARBUNYA       0.96      0.92      0.94       278\n",
      "      BOMBAY       0.99      1.00      1.00       109\n",
      "        CALI       0.95      0.95      0.95       342\n",
      "    DERMASON       0.90      0.93      0.92       745\n",
      "       HOROZ       0.95      0.96      0.96       405\n",
      "       SEKER       0.95      0.95      0.95       426\n",
      "        SIRA       0.88      0.86      0.87       554\n",
      "\n",
      "    accuracy                           0.93      2859\n",
      "   macro avg       0.94      0.94      0.94      2859\n",
      "weighted avg       0.93      0.93      0.93      2859\n",
      "\n"
     ]
    }
   ],
   "source": [
    "from sklearn.svm import SVC\n",
    "\n",
    "svm = SVC(kernel='linear', random_state=311)\n",
    "\n",
    "evaluate_accuracy(svm, X_scaled, y, X_test_scaled, y_test)"
   ]
  },
  {
   "cell_type": "markdown",
   "metadata": {},
   "source": [
    "### Linear SVC  0.48 vs 0.88"
   ]
  },
  {
   "cell_type": "code",
   "execution_count": 32,
   "metadata": {},
   "outputs": [
    {
     "name": "stderr",
     "output_type": "stream",
     "text": [
      "c:\\Users\\barte\\AppData\\Local\\Programs\\Python\\Python310\\lib\\site-packages\\sklearn\\utils\\validation.py:1300: DataConversionWarning: A column-vector y was passed when a 1d array was expected. Please change the shape of y to (n_samples, ), for example using ravel().\n",
      "  y = column_or_1d(y, warn=True)\n"
     ]
    },
    {
     "name": "stdout",
     "output_type": "stream",
     "text": [
      "Accuracy:  0.8866736621196223\n",
      "              precision    recall  f1-score   support\n",
      "\n",
      "    BARBUNYA       0.86      0.91      0.88       278\n",
      "      BOMBAY       0.98      1.00      0.99       109\n",
      "        CALI       0.82      0.94      0.88       342\n",
      "    DERMASON       0.94      0.85      0.89       745\n",
      "       HOROZ       0.95      0.89      0.92       405\n",
      "       SEKER       0.95      0.90      0.93       426\n",
      "        SIRA       0.78      0.85      0.82       554\n",
      "\n",
      "    accuracy                           0.89      2859\n",
      "   macro avg       0.90      0.91      0.90      2859\n",
      "weighted avg       0.89      0.89      0.89      2859\n",
      "\n"
     ]
    },
    {
     "name": "stderr",
     "output_type": "stream",
     "text": [
      "c:\\Users\\barte\\AppData\\Local\\Programs\\Python\\Python310\\lib\\site-packages\\sklearn\\svm\\_base.py:1237: ConvergenceWarning: Liblinear failed to converge, increase the number of iterations.\n",
      "  warnings.warn(\n"
     ]
    }
   ],
   "source": [
    "from sklearn.svm import LinearSVC\n",
    "\n",
    "svc = LinearSVC(random_state=311, penalty='l2', loss='hinge', dual='auto', fit_intercept=False)\n",
    "\n",
    "evaluate_accuracy(svc, X_scaled, y, X_test_scaled, y_test)"
   ]
  },
  {
   "cell_type": "markdown",
   "metadata": {},
   "source": [
    "### Bayes  0.75 vs 0.89"
   ]
  },
  {
   "cell_type": "code",
   "execution_count": 33,
   "metadata": {},
   "outputs": [
    {
     "name": "stdout",
     "output_type": "stream",
     "text": [
      "Accuracy:  0.894368660370759\n",
      "              precision    recall  f1-score   support\n",
      "\n",
      "    BARBUNYA       0.89      0.79      0.84       278\n",
      "      BOMBAY       0.97      1.00      0.99       109\n",
      "        CALI       0.86      0.91      0.88       342\n",
      "    DERMASON       0.91      0.88      0.90       745\n",
      "       HOROZ       0.94      0.96      0.95       405\n",
      "       SEKER       0.94      0.94      0.94       426\n",
      "        SIRA       0.81      0.85      0.83       554\n",
      "\n",
      "    accuracy                           0.89      2859\n",
      "   macro avg       0.90      0.90      0.90      2859\n",
      "weighted avg       0.90      0.89      0.89      2859\n",
      "\n"
     ]
    },
    {
     "name": "stderr",
     "output_type": "stream",
     "text": [
      "c:\\Users\\barte\\AppData\\Local\\Programs\\Python\\Python310\\lib\\site-packages\\sklearn\\utils\\validation.py:1300: DataConversionWarning: A column-vector y was passed when a 1d array was expected. Please change the shape of y to (n_samples, ), for example using ravel().\n",
      "  y = column_or_1d(y, warn=True)\n"
     ]
    }
   ],
   "source": [
    "from sklearn.naive_bayes import GaussianNB\n",
    "\n",
    "gaussian = GaussianNB()\n",
    "\n",
    "evaluate_accuracy(gaussian, X_scaled, y, X_test_scaled, y_test)"
   ]
  },
  {
   "cell_type": "markdown",
   "metadata": {},
   "source": [
    "### Ada Boost bez zmian"
   ]
  },
  {
   "cell_type": "code",
   "execution_count": 34,
   "metadata": {},
   "outputs": [
    {
     "name": "stderr",
     "output_type": "stream",
     "text": [
      "c:\\Users\\barte\\AppData\\Local\\Programs\\Python\\Python310\\lib\\site-packages\\sklearn\\utils\\validation.py:1300: DataConversionWarning: A column-vector y was passed when a 1d array was expected. Please change the shape of y to (n_samples, ), for example using ravel().\n",
      "  y = column_or_1d(y, warn=True)\n"
     ]
    },
    {
     "name": "stdout",
     "output_type": "stream",
     "text": [
      "Accuracy:  0.9233997901364114\n",
      "              precision    recall  f1-score   support\n",
      "\n",
      "    BARBUNYA       0.95      0.90      0.93       278\n",
      "      BOMBAY       0.99      1.00      1.00       109\n",
      "        CALI       0.94      0.95      0.94       342\n",
      "    DERMASON       0.92      0.92      0.92       745\n",
      "       HOROZ       0.95      0.95      0.95       405\n",
      "       SEKER       0.95      0.96      0.95       426\n",
      "        SIRA       0.86      0.87      0.86       554\n",
      "\n",
      "    accuracy                           0.92      2859\n",
      "   macro avg       0.94      0.93      0.93      2859\n",
      "weighted avg       0.92      0.92      0.92      2859\n",
      "\n"
     ]
    }
   ],
   "source": [
    "from sklearn.ensemble import AdaBoostClassifier\n",
    "\n",
    "ada = AdaBoostClassifier(estimator=tree2, random_state=311, learning_rate=0.2,\n",
    "                           n_estimators=21, algorithm='SAMME')\n",
    "\n",
    "evaluate_accuracy(ada, X_scaled, y, X_test_scaled, y_test)"
   ]
  },
  {
   "cell_type": "markdown",
   "metadata": {},
   "source": [
    "### Random Forest bez zmian"
   ]
  },
  {
   "cell_type": "code",
   "execution_count": 35,
   "metadata": {},
   "outputs": [
    {
     "name": "stderr",
     "output_type": "stream",
     "text": [
      "c:\\Users\\barte\\AppData\\Local\\Programs\\Python\\Python310\\lib\\site-packages\\sklearn\\base.py:1474: DataConversionWarning: A column-vector y was passed when a 1d array was expected. Please change the shape of y to (n_samples,), for example using ravel().\n",
      "  return fit_method(estimator, *args, **kwargs)\n"
     ]
    },
    {
     "name": "stdout",
     "output_type": "stream",
     "text": [
      "Accuracy:  0.925498426023085\n",
      "              precision    recall  f1-score   support\n",
      "\n",
      "    BARBUNYA       0.94      0.92      0.93       278\n",
      "      BOMBAY       0.99      1.00      1.00       109\n",
      "        CALI       0.94      0.94      0.94       342\n",
      "    DERMASON       0.90      0.93      0.92       745\n",
      "       HOROZ       0.96      0.94      0.95       405\n",
      "       SEKER       0.96      0.93      0.95       426\n",
      "        SIRA       0.88      0.87      0.88       554\n",
      "\n",
      "    accuracy                           0.93      2859\n",
      "   macro avg       0.94      0.94      0.94      2859\n",
      "weighted avg       0.93      0.93      0.93      2859\n",
      "\n"
     ]
    }
   ],
   "source": [
    "from sklearn.ensemble import RandomForestClassifier\n",
    "\n",
    "rfc = RandomForestClassifier(n_estimators=80, criterion='entropy', max_depth=20, random_state=311, max_features=None,\n",
    "                             warm_start=True)\n",
    "\n",
    "# evaluate_accuracy(rfc, X, y, X_test, y_test)\n",
    "rfc.fit(X_scaled, y)\n",
    "y_pred = rfc.predict(X_test_scaled)\n",
    "print(\"Accuracy: \", accuracy_score(y_test, y_pred))\n",
    "print(classification_report(y_test, y_pred))"
   ]
  }
 ],
 "metadata": {
  "kernelspec": {
   "display_name": "Python 3",
   "language": "python",
   "name": "python3"
  },
  "language_info": {
   "codemirror_mode": {
    "name": "ipython",
    "version": 3
   },
   "file_extension": ".py",
   "mimetype": "text/x-python",
   "name": "python",
   "nbconvert_exporter": "python",
   "pygments_lexer": "ipython3",
   "version": "3.10.4"
  }
 },
 "nbformat": 4,
 "nbformat_minor": 2
}

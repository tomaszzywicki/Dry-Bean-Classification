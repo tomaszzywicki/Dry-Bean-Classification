{
 "cells": [
  {
   "cell_type": "code",
   "execution_count": 3,
   "metadata": {},
   "outputs": [],
   "source": [
    "import pandas as pd\n",
    "import numpy as np"
   ]
  },
  {
   "cell_type": "code",
   "execution_count": 4,
   "metadata": {},
   "outputs": [],
   "source": [
    "df = pd.read_csv('../data/df_train.csv')\n",
    "df_test = pd.read_csv('../data/df_test.csv')\n",
    "\n",
    "X = df.drop(columns=[\"Class\"])\n",
    "y = df[\"Class\"].to_frame()\n",
    "X_test = df_test.drop(columns=[\"Class\"])\n",
    "y_test = df_test[\"Class\"]"
   ]
  },
  {
   "cell_type": "markdown",
   "metadata": {},
   "source": [
    "### Dummy Classifier"
   ]
  },
  {
   "cell_type": "code",
   "execution_count": 10,
   "metadata": {},
   "outputs": [
    {
     "name": "stdout",
     "output_type": "stream",
     "text": [
      "              precision    recall  f1-score   support\n",
      "\n",
      "    BARBUNYA       0.11      0.12      0.12       278\n",
      "      BOMBAY       0.06      0.06      0.06       109\n",
      "        CALI       0.10      0.10      0.10       342\n",
      "    DERMASON       0.25      0.24      0.24       745\n",
      "       HOROZ       0.15      0.16      0.16       405\n",
      "       SEKER       0.15      0.15      0.15       426\n",
      "        SIRA       0.20      0.20      0.20       554\n",
      "\n",
      "    accuracy                           0.17      2859\n",
      "   macro avg       0.15      0.15      0.15      2859\n",
      "weighted avg       0.17      0.17      0.17      2859\n",
      "\n"
     ]
    }
   ],
   "source": [
    "from sklearn.dummy import DummyClassifier\n",
    "from sklearn.metrics import accuracy_score, classification_report\n",
    "\n",
    "dc = DummyClassifier(strategy='stratified', random_state=311)\n",
    "dc.fit(X, y)\n",
    "y_hat1 = dc.predict(X_test)\n",
    "\n",
    "accuracy_score(y_test, y_hat1)\n",
    "print(classification_report(y_test, y_hat1))"
   ]
  },
  {
   "cell_type": "code",
   "execution_count": null,
   "metadata": {},
   "outputs": [],
   "source": []
  }
 ],
 "metadata": {
  "kernelspec": {
   "display_name": "Python 3",
   "language": "python",
   "name": "python3"
  },
  "language_info": {
   "codemirror_mode": {
    "name": "ipython",
    "version": 3
   },
   "file_extension": ".py",
   "mimetype": "text/x-python",
   "name": "python",
   "nbconvert_exporter": "python",
   "pygments_lexer": "ipython3",
   "version": "3.9.6"
  }
 },
 "nbformat": 4,
 "nbformat_minor": 2
}
